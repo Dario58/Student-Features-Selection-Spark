{
  "cells": [
    {
      "cell_type": "markdown",
      "source": [
        "# Data Intensive Computing Final Project - Task4 - Oct. 2022\n",
        "### Authors: Filippo Caliò - Dario Del Gaizo - Victor Lopo\n",
        "### Team: LM10"
      ],
      "metadata": {
        "application/vnd.databricks.v1+cell": {
          "title": "",
          "showTitle": false,
          "inputWidgets": {},
          "nuid": "b54a7fce-f70a-42cb-8950-e03b2df77d3a"
        },
        "id": "9GiSk4NZYpsQ"
      }
    },
    {
      "cell_type": "code",
      "source": [
        "import pyspark as pysp\n",
        "import pandas as pd\n",
        "import numpy as np\n",
        "import org.apache.spark as sp\n",
        "import pyspark.sql.functions as f\n",
        "\n",
        "from matplotlib import pyplot as plt\n",
        "from collections import Counter\n",
        "from pyspark.ml.stat import Correlation\n",
        "from pyspark.sql import DataFrame\n",
        "from pyspark.ml.evaluation import MulticlassClassificationEvaluator\n",
        "from pyspark.ml.tuning import CrossValidator, ParamGridBuilder, CrossValidatorModel\n",
        "from pyspark.ml.feature import StringIndexer, PCA, VectorAssembler, UnivariateFeatureSelector\n",
        "from pyspark.sql.functions import col,lit, monotonically_increasing_id\n",
        "from pyspark.ml.linalg import Vectors\n",
        "from pyspark.ml.classification import RandomForestClassifier\n",
        "from pyspark.ml import Pipeline\n",
        "from pyspark.sql import functions as f\n"
      ],
      "metadata": {
        "application/vnd.databricks.v1+cell": {
          "title": "Imports",
          "showTitle": true,
          "inputWidgets": {},
          "nuid": "e8e4679a-5b83-4690-a4ed-b52a51dcc8ea"
        },
        "id": "1r5MNfuSYpsa"
      },
      "outputs": [],
      "execution_count": null
    },
    {
      "cell_type": "markdown",
      "source": [
        "### Data Loading"
      ],
      "metadata": {
        "application/vnd.databricks.v1+cell": {
          "title": "",
          "showTitle": false,
          "inputWidgets": {},
          "nuid": "14627883-fe7d-4d93-a814-8bccc4123c8b"
        },
        "id": "q2KitjgcYpse"
      }
    },
    {
      "cell_type": "code",
      "source": [
        "df1 = spark.read.options(header='True', inferSchema='True', delimiter=',').csv('dbfs:/FileStore/tables/student_data.csv')\n",
        "df2 = spark.read.options(header='True', inferSchema='True', delimiter=',').csv('dbfs:/FileStore/tables/student_por.csv')"
      ],
      "metadata": {
        "application/vnd.databricks.v1+cell": {
          "title": "",
          "showTitle": false,
          "inputWidgets": {},
          "nuid": "479fa970-5534-4868-83e1-f41c7b505722"
        },
        "id": "mrboZxzKYpsf"
      },
      "outputs": [],
      "execution_count": null
    },
    {
      "cell_type": "markdown",
      "source": [
        "### Data Preprocessing"
      ],
      "metadata": {
        "application/vnd.databricks.v1+cell": {
          "title": "",
          "showTitle": false,
          "inputWidgets": {},
          "nuid": "b4e18e73-06ec-48b4-901e-044cbc1d1274"
        },
        "id": "k8M04RNyYpsg"
      }
    },
    {
      "cell_type": "code",
      "source": [
        "diff1 = set(df1.columns).difference(df2.columns)\n",
        "diff2 = set(df2.columns).difference(df1.columns)\n",
        "\n",
        "# The total number of different rows is equal to the second dataset \n",
        "# This means that the two datasets are different (df1 is different from df2)\n",
        "df1except = df1.exceptAll(df2)\n",
        "total_number_diff_rows = df1except.count()\n",
        "print(total_number_diff_rows)\n",
        "print(df1.count())\n",
        "\n",
        "# Same operation done in the other way (df2 is different from df1)\n",
        "df2except = df2.exceptAll(df1)\n",
        "total_number_diff_rows = df2except.count()\n",
        "print(df2.count())\n",
        "print(total_number_diff_rows)"
      ],
      "metadata": {
        "application/vnd.databricks.v1+cell": {
          "title": "Checking if the two datasets are the same",
          "showTitle": true,
          "inputWidgets": {},
          "nuid": "84aa1eec-e056-4e20-8e81-b7fe1ec444d4"
        },
        "id": "vIXiMNevYpsg",
        "outputId": "267a174e-e38a-41e3-9014-98e3fdce0555"
      },
      "outputs": [
        {
          "output_type": "display_data",
          "metadata": {
            "application/vnd.databricks.v1+output": {
              "datasetInfos": [],
              "data": "Difference is:  0 0\n395\n395\n649\n649\n",
              "removedWidgets": [],
              "addedWidgets": {},
              "metadata": {},
              "type": "ansi",
              "arguments": {}
            }
          },
          "data": {
            "text/plain": [
              "Difference is:  0 0\n395\n395\n649\n649\n"
            ]
          }
        }
      ],
      "execution_count": null
    },
    {
      "cell_type": "code",
      "source": [
        "df = df1.union(df2)\n",
        "#display(df)"
      ],
      "metadata": {
        "application/vnd.databricks.v1+cell": {
          "title": "Joining the two datasets into an unique one",
          "showTitle": true,
          "inputWidgets": {},
          "nuid": "fff9a6f7-40ef-4c01-b198-addf99178987"
        },
        "id": "bUoH048qYpsj"
      },
      "outputs": [],
      "execution_count": null
    },
    {
      "cell_type": "code",
      "source": [
        "df.dtypes"
      ],
      "metadata": {
        "application/vnd.databricks.v1+cell": {
          "title": "Checking the types of the attributes",
          "showTitle": true,
          "inputWidgets": {},
          "nuid": "7bf9498c-b499-4eb0-b67d-85584b579bcc"
        },
        "id": "yXU596qwYpsk",
        "outputId": "e5364c2c-7512-4427-bc19-3cf2246b6a3c"
      },
      "outputs": [
        {
          "output_type": "display_data",
          "metadata": {
            "application/vnd.databricks.v1+output": {
              "datasetInfos": [],
              "data": "Out[7]: [('school', 'string'),\n ('sex', 'string'),\n ('age', 'int'),\n ('address', 'string'),\n ('famsize', 'string'),\n ('Pstatus', 'string'),\n ('Medu', 'int'),\n ('Fedu', 'int'),\n ('Mjob', 'string'),\n ('Fjob', 'string'),\n ('reason', 'string'),\n ('guardian', 'string'),\n ('traveltime', 'int'),\n ('studytime', 'int'),\n ('failures', 'int'),\n ('schoolsup', 'string'),\n ('famsup', 'string'),\n ('paid', 'string'),\n ('activities', 'string'),\n ('nursery', 'string'),\n ('higher', 'string'),\n ('internet', 'string'),\n ('romantic', 'string'),\n ('famrel', 'int'),\n ('freetime', 'int'),\n ('goout', 'int'),\n ('Dalc', 'int'),\n ('Walc', 'int'),\n ('health', 'int'),\n ('absences', 'int'),\n ('G1', 'int'),\n ('G2', 'int'),\n ('G3', 'int')]",
              "removedWidgets": [],
              "addedWidgets": {},
              "metadata": {},
              "type": "ansi",
              "arguments": {}
            }
          },
          "data": {
            "text/plain": [
              "Out[7]: [('school', 'string'),\n ('sex', 'string'),\n ('age', 'int'),\n ('address', 'string'),\n ('famsize', 'string'),\n ('Pstatus', 'string'),\n ('Medu', 'int'),\n ('Fedu', 'int'),\n ('Mjob', 'string'),\n ('Fjob', 'string'),\n ('reason', 'string'),\n ('guardian', 'string'),\n ('traveltime', 'int'),\n ('studytime', 'int'),\n ('failures', 'int'),\n ('schoolsup', 'string'),\n ('famsup', 'string'),\n ('paid', 'string'),\n ('activities', 'string'),\n ('nursery', 'string'),\n ('higher', 'string'),\n ('internet', 'string'),\n ('romantic', 'string'),\n ('famrel', 'int'),\n ('freetime', 'int'),\n ('goout', 'int'),\n ('Dalc', 'int'),\n ('Walc', 'int'),\n ('health', 'int'),\n ('absences', 'int'),\n ('G1', 'int'),\n ('G2', 'int'),\n ('G3', 'int')]"
            ]
          }
        }
      ],
      "execution_count": null
    },
    {
      "cell_type": "code",
      "source": [
        "# The final grade (target) is going to be group in 4 classes for the multiclass classification task\n",
        "\n",
        "# Very bad --> grades from 0 to 7\n",
        "# Bad --> grades from 7 to 11\n",
        "# Good --> grades from 11 to 15\n",
        "# Very good --> grades from 15 to 20\n",
        "\n",
        "\n",
        "df = df.withColumn('Grade1', f.when(f.col('G1') <= 7, \"very_bad\")\n",
        "                        .when((f.col('G1') > 7) & (f.col('G1') <= 11), \"bad\")\n",
        "                        .when((f.col('G1') > 11) & (f.col('G1') <= 15), \"good\")\n",
        "                       .otherwise(\"very_good\"))\n",
        "\n",
        "df = df.withColumn('Grade2', f.when(f.col('G2') <= 7, \"very_bad\")\n",
        "                        .when((f.col('G2') > 7) & (f.col('G2') <= 11), \"bad\")\n",
        "                        .when((f.col('G2') > 11) & (f.col('G2') <= 15), \"good\")\n",
        "                       .otherwise(\"very_good\"))\n",
        "\n",
        "df = df.withColumn('Grade3', f.when(f.col('G3') <= 7, \"very_bad\")\n",
        "                        .when((f.col('G3') > 7) & (f.col('G3') <= 11), \"bad\")\n",
        "                        .when((f.col('G3') > 11) & (f.col('G3') <= 15), \"good\")\n",
        "                       .otherwise(\"very_good\"))\n",
        "\n",
        "\n",
        "# Checking if the four labels are balanced to have a Gaussian distribution\n",
        "\n",
        "grades = df.select('Grade3').rdd.flatMap(lambda x: x).collect()\n",
        "count = Counter(grades)\n",
        "grades_df = pd.DataFrame.from_dict(count, orient='index')\n",
        "grades_df.plot(kind='bar')\n"
      ],
      "metadata": {
        "application/vnd.databricks.v1+cell": {
          "title": "Grouping the final attribute into different labels",
          "showTitle": true,
          "inputWidgets": {},
          "nuid": "7a4452bd-063c-4456-9059-ec2d0c49177e"
        },
        "id": "rswBVFbNYpsm",
        "outputId": "b385337f-7228-4efe-adfe-acea99ae56b9"
      },
      "outputs": [
        {
          "output_type": "display_data",
          "metadata": {
            "application/vnd.databricks.v1+output": {
              "datasetInfos": [],
              "data": "Out[5]: <AxesSubplot:>",
              "removedWidgets": [],
              "addedWidgets": {},
              "metadata": {},
              "type": "ansi",
              "arguments": {}
            }
          },
          "data": {
            "text/plain": [
              "Out[5]: <AxesSubplot:>"
            ]
          }
        },
        {
          "output_type": "display_data",
          "metadata": {
            "application/vnd.databricks.v1+output": {
              "datasetInfos": [],
              "data": "data:image/png;base64,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\n",
              "removedWidgets": [],
              "addedWidgets": {},
              "metadata": {},
              "type": "image",
              "arguments": {}
            }
          },
          "data": {
            "image/png": "[encoded data removed]"
          }
        }
      ],
      "execution_count": null
    },
    {
      "cell_type": "markdown",
      "source": [
        "### Train-Test split"
      ],
      "metadata": {
        "application/vnd.databricks.v1+cell": {
          "title": "",
          "showTitle": false,
          "inputWidgets": {},
          "nuid": "ca2ef291-4281-43b4-9dd5-07a35c51fd41"
        },
        "id": "3PuIhGheYpsn"
      }
    },
    {
      "cell_type": "code",
      "source": [
        "df = df.drop(\"G1\").drop(\"G2\").drop(\"G3\")\n",
        "input_cols = [\"school\", \"sex\", \"address\", \"famsize\", \"Pstatus\", \"Mjob\", \"Fjob\", \"reason\", \"guardian\", \"schoolsup\", \"famsup\", \"paid\", \"activities\", \"nursery\", \"higher\", \"internet\", \"romantic\", \"Grade1\", \"Grade2\", \"Grade3\"]\n",
        "\n",
        "index_cols = [\"school_Idx\", \"sex_Idx\", \"address_Idx\", \"famsize_Idx\", \"Pstatus_Idx\", \"Mjob_Idx\", \"Fjob_Idx\", \"reason_Idx\", \"guardian_Idx\", \"schoolsup_Idx\", \"famsup_Idx\", \"paid_Idx\", \"activities_Idx\", \"nursery_Idx\", \"higher_Idx\", \"internet_Idx\", \"romantic_Idx\", \"Grade1_Idx\", \"Grade2_Idx\", \"Grade3_Idx\"]\n",
        "\n",
        "indexer = StringIndexer(inputCols=input_cols, outputCols=index_cols)\n",
        "\n",
        "df_indexed = indexer.fit(df).transform(df)\n",
        "df_indexed = df_indexed.drop(\"school\", \"sex\", \"address\", \"famsize\", \"Pstatus\", \"Mjob\", \"Fjob\", \"reason\", \"guardian\", \"schoolsup\", \"famsup\", \"paid\", \"activities\", \"nursery\", \"higher\", \"internet\", \"romantic\", \"Grade1\", \"Grade2\", \"Grade3\")\n"
      ],
      "metadata": {
        "application/vnd.databricks.v1+cell": {
          "title": "",
          "showTitle": false,
          "inputWidgets": {},
          "nuid": "e981f5ed-2227-41ea-b3a9-2de72746d87f"
        },
        "id": "NFoVprEfYpso"
      },
      "outputs": [],
      "execution_count": null
    },
    {
      "cell_type": "code",
      "source": [
        "# convert to vector column first\n",
        "vector_col = \"corr_features\"\n",
        "assembler_corr = VectorAssembler(inputCols=df_indexed.columns, outputCol=vector_col)\n",
        "df_vector = assembler_corr.transform(df_indexed).select(vector_col)\n",
        "\n",
        "matrix = Correlation.corr(df_vector, vector_col)\n",
        "cor_np = matrix.collect()[0][matrix.columns[0]].toArray()\n",
        "\n",
        "def plot_corr_matrix(correlations,attr,fig_no):\n",
        "    fig=plt.figure(fig_no)\n",
        "    ax=fig.add_subplot(111)\n",
        "    ax.set_title(\"Correlation Matrix for Specified Attributes\")\n",
        "    ax.set_xticklabels(['']+attr)\n",
        "    ax.set_yticklabels(['']+attr)\n",
        "    cax=ax.matshow(correlations,vmax=1,vmin=-1)\n",
        "    fig.colorbar(cax)\n",
        "    plt.show()\n",
        "\n",
        "# The features with more correlation are Grade 1 and Grade 2\n",
        "# Grade 1 and Grade 2 are grades of previous test in the course\n",
        "# They don't have direct influence in the final grade (one final exam)\n",
        "\n",
        "plot_corr_matrix(cor_np, df_indexed.columns, 234)"
      ],
      "metadata": {
        "application/vnd.databricks.v1+cell": {
          "title": "Correlation matrix ",
          "showTitle": true,
          "inputWidgets": {},
          "nuid": "e82b6e4b-8ae5-4dcb-92da-e3d4755687d9"
        },
        "id": "CheKxCeSYpsp",
        "outputId": "811595f6-555c-476e-bfc9-fa9194bc431b"
      },
      "outputs": [
        {
          "output_type": "display_data",
          "metadata": {
            "application/vnd.databricks.v1+output": {
              "datasetInfos": [],
              "data": "/databricks/spark/python/pyspark/sql/context.py:134: FutureWarning: Deprecated in 3.0.0. Use SparkSession.builder.getOrCreate() instead.\n  warnings.warn(\n<command-4428537841257942>:13: UserWarning: FixedFormatter should only be used together with FixedLocator\n  ax.set_xticklabels(['']+attr)\n<command-4428537841257942>:14: UserWarning: FixedFormatter should only be used together with FixedLocator\n  ax.set_yticklabels(['']+attr)\n",
              "removedWidgets": [],
              "addedWidgets": {},
              "metadata": {},
              "type": "ansi",
              "arguments": {}
            }
          },
          "data": {
            "text/plain": [
              "/databricks/spark/python/pyspark/sql/context.py:134: FutureWarning: Deprecated in 3.0.0. Use SparkSession.builder.getOrCreate() instead.\n  warnings.warn(\n<command-4428537841257942>:13: UserWarning: FixedFormatter should only be used together with FixedLocator\n  ax.set_xticklabels(['']+attr)\n<command-4428537841257942>:14: UserWarning: FixedFormatter should only be used together with FixedLocator\n  ax.set_yticklabels(['']+attr)\n"
            ]
          }
        },
        {
          "output_type": "display_data",
          "metadata": {
            "application/vnd.databricks.v1+output": {
              "datasetInfos": [],
              "data": "data:image/png;base64,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\n",
              "removedWidgets": [],
              "addedWidgets": {},
              "metadata": {},
              "type": "image",
              "arguments": {}
            }
          },
          "data": {
            "image/png": "[encoded data removed]"
          }
        }
      ],
      "execution_count": null
    },
    {
      "cell_type": "code",
      "source": [
        "# 15 % of the data goes to the test set and 85 % to the train set\n",
        "\n",
        "perc = 0.85\n",
        "train_df, test_df = df_indexed.randomSplit([perc, 1-perc], seed=42)\n",
        "#display(train_df)\n",
        "#display(test_df)"
      ],
      "metadata": {
        "application/vnd.databricks.v1+cell": {
          "title": "Train/Test Split",
          "showTitle": true,
          "inputWidgets": {},
          "nuid": "942d5ef5-132f-4f20-bb3d-345a754af8cb"
        },
        "id": "nXmeg4WjYpsq"
      },
      "outputs": [],
      "execution_count": null
    },
    {
      "cell_type": "markdown",
      "source": [
        "### Cross-validation to search the optimal number of features"
      ],
      "metadata": {
        "application/vnd.databricks.v1+cell": {
          "title": "",
          "showTitle": false,
          "inputWidgets": {},
          "nuid": "a64f42fc-5070-4ced-a257-10a99148eb02"
        },
        "id": "Rn5Npx7BYpsr"
      }
    },
    {
      "cell_type": "code",
      "source": [
        "train_df_labels = train_df.select(\"Grade3_Idx\")\n",
        "train_df_features = train_df.drop(\"Grade3_Idx\")\n",
        "\n",
        "assembler = VectorAssembler(inputCols=train_df_features.columns, outputCol=\"features\")\n",
        "train_df_features_top_study = assembler.transform(train_df_features)"
      ],
      "metadata": {
        "application/vnd.databricks.v1+cell": {
          "title": "",
          "showTitle": false,
          "inputWidgets": {},
          "nuid": "96b5b727-b1fd-4809-8448-44c2a8be1efe"
        },
        "id": "lRt9v_zcYpsr"
      },
      "outputs": [],
      "execution_count": null
    },
    {
      "cell_type": "code",
      "source": [
        "# To train the models is neccessary that the train dataset is assembled\n",
        "\n",
        "train_df_features_assembler = train_df_features_top_study.select(\"features\")\n",
        "train_df_features_assembler = train_df_features_assembler.withColumn(\"id\",monotonically_increasing_id() )\n",
        "train_df_labels = train_df_labels.withColumn( \"id\", monotonically_increasing_id() )\n",
        "train_df_merged = train_df_features_assembler.join(train_df_labels,train_df_features_assembler.id == train_df_labels.id, how='inner')\n",
        "train_df_merged = train_df_merged.drop(\"id\").drop(\"id\")\n",
        "train_df_merged = train_df_merged.withColumnRenamed(\"Grade3_Idx\", \"label\")"
      ],
      "metadata": {
        "application/vnd.databricks.v1+cell": {
          "title": "",
          "showTitle": false,
          "inputWidgets": {},
          "nuid": "36b5e06a-1e27-4116-84c6-1b284eb50bf2"
        },
        "id": "UzI83HgnYpss"
      },
      "outputs": [],
      "execution_count": null
    },
    {
      "cell_type": "code",
      "source": [
        "list_features = range(5, 16, 1)\n",
        "name_list_dict = {}\n",
        "selector = UnivariateFeatureSelector(featuresCol=\"features\", outputCol=\"selectedFeatures\", labelCol=\"label\", selectionMode=\"numTopFeatures\")\n",
        "\n",
        "for num_features in list_features:\n",
        "    selector.setFeatureType(\"categorical\").setLabelType(\"categorical\").setSelectionThreshold(num_features)\n",
        "    result = selector.fit(train_df_merged)\n",
        "    name_list_dict[\"features_\" + str(num_features)] = np.array(train_df.columns)[result.selectedFeatures] #dictionary {features_num -> list of features}\n",
        "    \n",
        "display(name_list_dict)"
      ],
      "metadata": {
        "application/vnd.databricks.v1+cell": {
          "title": "",
          "showTitle": false,
          "inputWidgets": {},
          "nuid": "c961e3aa-bcd9-416b-ac11-4dec9bfe6a75"
        },
        "id": "w6g0A52yYpss",
        "outputId": "b9d4e5c7-26b0-4ebf-be4b-9b983ab57a67"
      },
      "outputs": [
        {
          "output_type": "display_data",
          "metadata": {
            "application/vnd.databricks.v1+output": {
              "datasetInfos": [],
              "data": "{'features_5': array(['failures', 'Grade1_Idx', 'Grade2_Idx', 'higher_Idx', 'Medu'],\n       dtype='<U14'),\n 'features_6': array(['failures', 'Grade1_Idx', 'Grade2_Idx', 'higher_Idx', 'Medu',\n        'Mjob_Idx'], dtype='<U14'),\n 'features_7': array(['failures', 'Grade1_Idx', 'Grade2_Idx', 'higher_Idx', 'Medu',\n        'Mjob_Idx', 'Fedu'], dtype='<U14'),\n 'features_8': array(['failures', 'Grade1_Idx', 'Grade2_Idx', 'higher_Idx', 'Medu',\n        'Mjob_Idx', 'Fedu', 'studytime'], dtype='<U14'),\n 'features_9': array(['failures', 'Grade1_Idx', 'Grade2_Idx', 'higher_Idx', 'Medu',\n        'Mjob_Idx', 'Fedu', 'studytime', 'Dalc'], dtype='<U14'),\n 'features_10': array(['failures', 'Grade1_Idx', 'Grade2_Idx', 'higher_Idx', 'Medu',\n        'Mjob_Idx', 'Fedu', 'studytime', 'Dalc', 'goout'], dtype='<U14'),\n 'features_11': array(['failures', 'Grade1_Idx', 'Grade2_Idx', 'higher_Idx', 'Medu',\n        'Mjob_Idx', 'Fedu', 'studytime', 'Dalc', 'goout', 'address_Idx'],\n       dtype='<U14'),\n 'features_12': array(['failures', 'Grade1_Idx', 'Grade2_Idx', 'higher_Idx', 'Medu',\n        'Mjob_Idx', 'Fedu', 'studytime', 'Dalc', 'goout', 'address_Idx',\n        'school_Idx'], dtype='<U14'),\n 'features_13': array(['failures', 'Grade1_Idx', 'Grade2_Idx', 'higher_Idx', 'Medu',\n        'Mjob_Idx', 'Fedu', 'studytime', 'Dalc', 'goout', 'address_Idx',\n        'school_Idx', 'Fjob_Idx'], dtype='<U14'),\n 'features_14': array(['failures', 'Grade1_Idx', 'Grade2_Idx', 'higher_Idx', 'Medu',\n        'Mjob_Idx', 'Fedu', 'studytime', 'Dalc', 'goout', 'address_Idx',\n        'school_Idx', 'Fjob_Idx', 'Walc'], dtype='<U14'),\n 'features_15': array(['failures', 'Grade1_Idx', 'Grade2_Idx', 'higher_Idx', 'Medu',\n        'Mjob_Idx', 'Fedu', 'studytime', 'Dalc', 'goout', 'address_Idx',\n        'school_Idx', 'Fjob_Idx', 'Walc', 'schoolsup_Idx'], dtype='<U14')}",
              "removedWidgets": [],
              "addedWidgets": {},
              "metadata": {},
              "type": "ansi",
              "arguments": {}
            }
          },
          "data": {
            "text/plain": [
              "{'features_5': array(['failures', 'Grade1_Idx', 'Grade2_Idx', 'higher_Idx', 'Medu'],\n       dtype='<U14'),\n 'features_6': array(['failures', 'Grade1_Idx', 'Grade2_Idx', 'higher_Idx', 'Medu',\n        'Mjob_Idx'], dtype='<U14'),\n 'features_7': array(['failures', 'Grade1_Idx', 'Grade2_Idx', 'higher_Idx', 'Medu',\n        'Mjob_Idx', 'Fedu'], dtype='<U14'),\n 'features_8': array(['failures', 'Grade1_Idx', 'Grade2_Idx', 'higher_Idx', 'Medu',\n        'Mjob_Idx', 'Fedu', 'studytime'], dtype='<U14'),\n 'features_9': array(['failures', 'Grade1_Idx', 'Grade2_Idx', 'higher_Idx', 'Medu',\n        'Mjob_Idx', 'Fedu', 'studytime', 'Dalc'], dtype='<U14'),\n 'features_10': array(['failures', 'Grade1_Idx', 'Grade2_Idx', 'higher_Idx', 'Medu',\n        'Mjob_Idx', 'Fedu', 'studytime', 'Dalc', 'goout'], dtype='<U14'),\n 'features_11': array(['failures', 'Grade1_Idx', 'Grade2_Idx', 'higher_Idx', 'Medu',\n        'Mjob_Idx', 'Fedu', 'studytime', 'Dalc', 'goout', 'address_Idx'],\n       dtype='<U14'),\n 'features_12': array(['failures', 'Grade1_Idx', 'Grade2_Idx', 'higher_Idx', 'Medu',\n        'Mjob_Idx', 'Fedu', 'studytime', 'Dalc', 'goout', 'address_Idx',\n        'school_Idx'], dtype='<U14'),\n 'features_13': array(['failures', 'Grade1_Idx', 'Grade2_Idx', 'higher_Idx', 'Medu',\n        'Mjob_Idx', 'Fedu', 'studytime', 'Dalc', 'goout', 'address_Idx',\n        'school_Idx', 'Fjob_Idx'], dtype='<U14'),\n 'features_14': array(['failures', 'Grade1_Idx', 'Grade2_Idx', 'higher_Idx', 'Medu',\n        'Mjob_Idx', 'Fedu', 'studytime', 'Dalc', 'goout', 'address_Idx',\n        'school_Idx', 'Fjob_Idx', 'Walc'], dtype='<U14'),\n 'features_15': array(['failures', 'Grade1_Idx', 'Grade2_Idx', 'higher_Idx', 'Medu',\n        'Mjob_Idx', 'Fedu', 'studytime', 'Dalc', 'goout', 'address_Idx',\n        'school_Idx', 'Fjob_Idx', 'Walc', 'schoolsup_Idx'], dtype='<U14')}"
            ]
          }
        }
      ],
      "execution_count": null
    },
    {
      "cell_type": "code",
      "source": [
        "keys = name_list_dict.keys()\n",
        "assembled_list = []\n",
        "i = 0\n",
        "\n",
        "for k in keys:\n",
        "    out = \"features_\" + str(5+i)\n",
        "    assembler = VectorAssembler(inputCols=name_list_dict[k], outputCol=out)\n",
        "    transformed_df = assembler.transform(train_df_features)\n",
        "    assembled_list.append(transformed_df.select(out))\n",
        "    i = i + 1\n"
      ],
      "metadata": {
        "application/vnd.databricks.v1+cell": {
          "title": "",
          "showTitle": false,
          "inputWidgets": {},
          "nuid": "5dc5f25d-cefe-4701-b65a-26216ca220de"
        },
        "id": "1bqojgmAYpst"
      },
      "outputs": [],
      "execution_count": null
    },
    {
      "cell_type": "code",
      "source": [
        "final_dfs =  []\n",
        "train_df_labels = train_df_labels.withColumn(\"id\", monotonically_increasing_id())\n",
        "\n",
        "for i in range(len(assembled_list)):\n",
        "    temp = assembled_list[i]\n",
        "    temp = temp.withColumn(\"id\", monotonically_increasing_id())\n",
        "    final_dfs.append(temp.join(train_df_labels, temp.id == train_df_labels.id, how='inner'))\n",
        "    final_dfs[i] = final_dfs[i].drop(\"id\").drop(\"id\")\n",
        "    \n",
        "for a in final_dfs:\n",
        "    #display(a)"
      ],
      "metadata": {
        "application/vnd.databricks.v1+cell": {
          "title": "",
          "showTitle": false,
          "inputWidgets": {},
          "nuid": "bcef8864-fee8-4e5e-9623-d688d0427f6d"
        },
        "id": "Q3OpYuK2Ypsu"
      },
      "outputs": [],
      "execution_count": null
    },
    {
      "cell_type": "code",
      "source": [
        "# Store the accuracies of all the models obtained in the cross validation in a list\n",
        "\n",
        "accuracies = {}\n",
        "i = 0\n",
        "\n",
        "reduce_final_dfs = final_dfs[:6]\n",
        "\n",
        "for a in reduce_final_dfs:\n",
        "    #display(a)"
      ],
      "metadata": {
        "application/vnd.databricks.v1+cell": {
          "title": "",
          "showTitle": false,
          "inputWidgets": {},
          "nuid": "f54e6c5b-4b92-4c20-8104-bf73f58c20f8"
        },
        "id": "Phss42wQYpsu"
      },
      "outputs": [],
      "execution_count": null
    },
    {
      "cell_type": "code",
      "source": [
        "# For loop to cross-validate the models with different features\n",
        "\n",
        "models = []\n",
        "for df in reduce_final_dfs:\n",
        "    out = \"features_\" + str(5+i)\n",
        "    df = df.withColumnRenamed(out, \"features\").withColumnRenamed(\"Grade3_Idx\", \"label\")\n",
        "    rf = RandomForestClassifier(labelCol=\"label\", featuresCol=\"features\", seed=42)\n",
        "    evaluator = MulticlassClassificationEvaluator()  \n",
        "\n",
        "    pipeline = Pipeline(stages=[rf])\n",
        "    paramGrid = (ParamGridBuilder().addGrid(rf.numTrees, [64, 128]).addGrid(rf.maxDepth, [0, 3]).build())\n",
        "\n",
        "    crossval = CrossValidator(\n",
        "        estimator=pipeline,\n",
        "        estimatorParamMaps=paramGrid,\n",
        "        evaluator=evaluator,\n",
        "        numFolds=10)\n",
        "\n",
        "    model = crossval.fit(df)\n",
        "    models.append(model)\n",
        "\n",
        "    avgMetricsGrid = model.avgMetrics\n",
        "    model_name = \"model_\" + str(5+i)\n",
        "    accuracies[model_name] = max(avgMetricsGrid)\n",
        "    i = i + 1\n",
        "    \n",
        "    "
      ],
      "metadata": {
        "application/vnd.databricks.v1+cell": {
          "title": "",
          "showTitle": false,
          "inputWidgets": {},
          "nuid": "9fc61c2a-a99c-4bbd-bfc0-86a57c7df03f"
        },
        "id": "8TTlDj8UYpsv"
      },
      "outputs": [],
      "execution_count": null
    },
    {
      "cell_type": "code",
      "source": [
        "# Print the accuracies of each model\n",
        "\n",
        "print(accuracies)"
      ],
      "metadata": {
        "application/vnd.databricks.v1+cell": {
          "title": "",
          "showTitle": false,
          "inputWidgets": {},
          "nuid": "f4d5a765-fd91-45d9-93a7-6f4dbc1236a1"
        },
        "id": "82e2cDfUYpsv",
        "outputId": "d5e78de1-e115-493d-e059-dd3af4d67df2"
      },
      "outputs": [
        {
          "output_type": "display_data",
          "metadata": {
            "application/vnd.databricks.v1+output": {
              "datasetInfos": [],
              "data": "{'model_5': 0.8577192723180639, 'model_6': 0.8586912017076074, 'model_7': 0.8470210463093004, 'model_8': 0.8418410940604029, 'model_9': 0.8181003395331349, 'model_10': 0.8425706459569655}\n",
              "removedWidgets": [],
              "addedWidgets": {},
              "metadata": {},
              "type": "ansi",
              "arguments": {}
            }
          },
          "data": {
            "text/plain": [
              "{'model_5': 0.8577192723180639, 'model_6': 0.8586912017076074, 'model_7': 0.8470210463093004, 'model_8': 0.8418410940604029, 'model_9': 0.8181003395331349, 'model_10': 0.8425706459569655}\n"
            ]
          }
        }
      ],
      "execution_count": null
    },
    {
      "cell_type": "code",
      "source": [
        "lists = accuracies.items() \n",
        "\n",
        "# unpack a list of pairs into two tuples\n",
        "\n",
        "x, y = zip(*lists) \n",
        "\n",
        "plt.plot(x, y)\n",
        "plt.show()"
      ],
      "metadata": {
        "application/vnd.databricks.v1+cell": {
          "title": "Plot the accuracies of each model to select the best one (Model with 6 features)",
          "showTitle": true,
          "inputWidgets": {},
          "nuid": "4c8bca50-a0bb-48e4-ad17-ec3038a269da"
        },
        "id": "REICvVBIYpsw",
        "outputId": "10406595-f0f8-44ef-f8ad-0f715a31102a"
      },
      "outputs": [
        {
          "output_type": "display_data",
          "metadata": {
            "application/vnd.databricks.v1+output": {
              "datasetInfos": [],
              "data": "data:image/png;base64,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\n",
              "removedWidgets": [],
              "addedWidgets": {},
              "metadata": {},
              "type": "image",
              "arguments": {}
            }
          },
          "data": {
            "image/png": "[encoded data removed]"
          }
        }
      ],
      "execution_count": null
    },
    {
      "cell_type": "code",
      "source": [
        "# Assemble the test dataset to be able to make predictions\n",
        "\n",
        "input_cols = [\"failures\", \"Grade1_Idx\", \"Grade2_Idx\", \"higher_Idx\", \"Medu\", \"Mjob_Idx\"]\n",
        "test_df_6 = test_df.select(\"failures\", \"Grade1_Idx\", \"Grade2_Idx\", \"higher_Idx\", \"Medu\", \"Mjob_Idx\", \"Grade3_Idx\")\n",
        "assembler = VectorAssembler(inputCols=input_cols, outputCol=\"features\")\n",
        "transformed_df_6 = assembler.transform(test_df_6)\n",
        "transformed_df_6 = transformed_df_6.withColumnRenamed(\"Grade3_Idx\", \"label\")\n",
        "test_df_assembled_6 = transformed_df_6.select(\"features\", \"label\")\n",
        "\n"
      ],
      "metadata": {
        "application/vnd.databricks.v1+cell": {
          "title": "",
          "showTitle": false,
          "inputWidgets": {},
          "nuid": "0d61ba0c-23aa-4534-ab8a-669886ffab34"
        },
        "id": "rQgX0cQbYpsw"
      },
      "outputs": [],
      "execution_count": null
    },
    {
      "cell_type": "code",
      "source": [
        "# Cross-validation of the model of 6 features\n",
        "\n",
        "to_train = final_dfs[1].withColumnRenamed(\"features_6\", \"features\").withColumnRenamed(\"Grade3_Idx\", \"label\")\n",
        "rf = RandomForestClassifier(labelCol=\"label\", featuresCol=\"features\", seed=42)\n",
        "evaluator = MulticlassClassificationEvaluator().setLabelCol(\"label\").setPredictionCol(\"prediction\").setMetricName(\"accuracy\")\n",
        "\n",
        "# Pipeline and grid to find the optimal parameters of the random forest\n",
        "\n",
        "pipeline = Pipeline(stages=[rf])\n",
        "paramGrid = (ParamGridBuilder().addGrid(rf.numTrees, [100, 300]).addGrid(rf.maxDepth, [0, 4]).build())\n",
        "\n",
        "crossval = CrossValidator(\n",
        "    estimator=pipeline,\n",
        "    estimatorParamMaps=paramGrid,\n",
        "    evaluator=evaluator,\n",
        "    numFolds=10)\n",
        "\n",
        "model_6 = crossval.fit(to_train)\n",
        "\n",
        "\n",
        "avgMetricsGrid = model_6.avgMetrics\n",
        "accuracy_6 = max(avgMetricsGrid)"
      ],
      "metadata": {
        "application/vnd.databricks.v1+cell": {
          "title": "Model with 6 features - Cross Validation",
          "showTitle": true,
          "inputWidgets": {},
          "nuid": "281d64f1-60ab-4f50-994d-3dcce669bed8"
        },
        "id": "yHObLMUCYpsx"
      },
      "outputs": [],
      "execution_count": null
    },
    {
      "cell_type": "code",
      "source": [
        "# Accuracy of the cross-validation \n",
        "\n",
        "\n",
        "accuracy_6"
      ],
      "metadata": {
        "application/vnd.databricks.v1+cell": {
          "title": "",
          "showTitle": false,
          "inputWidgets": {},
          "nuid": "c65d4565-9e58-4c28-94cb-96c5c0ba1fc7"
        },
        "id": "ISzfDzpJYpsx",
        "outputId": "2fcde230-04d3-4a8f-e3ed-fe12dab8db7b"
      },
      "outputs": [
        {
          "output_type": "display_data",
          "metadata": {
            "application/vnd.databricks.v1+output": {
              "datasetInfos": [],
              "data": "Out[23]: 0.8566779396659564",
              "removedWidgets": [],
              "addedWidgets": {},
              "metadata": {},
              "type": "ansi",
              "arguments": {}
            }
          },
          "data": {
            "text/plain": [
              "Out[23]: 0.8566779396659564"
            ]
          }
        }
      ],
      "execution_count": null
    },
    {
      "cell_type": "code",
      "source": [
        "predictions_6 = model_6.transform(test_df_assembled_6)\n",
        "\n",
        "evaluator_6 = MulticlassClassificationEvaluator().setLabelCol(\"label\").setPredictionCol(\"prediction\").setMetricName(\"accuracy\")\n",
        "\n",
        "accuracy_6 = evaluator_6.evaluate(predictions_6)\n",
        "\n",
        "# Accuracy over the test set (slightly lower than in the cross validation)\n",
        "\n",
        "print(accuracy_6)"
      ],
      "metadata": {
        "application/vnd.databricks.v1+cell": {
          "title": "Test the Model with 6 features over the Test Set",
          "showTitle": true,
          "inputWidgets": {},
          "nuid": "bb379014-6ea6-4e66-8995-7fa2bf0d8cb7"
        },
        "id": "nG5ksmqyYpsy",
        "outputId": "bc7b9947-d46f-4c2f-9bb8-0b8f88466fa1"
      },
      "outputs": [
        {
          "output_type": "display_data",
          "metadata": {
            "application/vnd.databricks.v1+output": {
              "datasetInfos": [],
              "data": "0.8376623376623377\n",
              "removedWidgets": [],
              "addedWidgets": {},
              "metadata": {},
              "type": "ansi",
              "arguments": {}
            }
          },
          "data": {
            "text/plain": [
              "0.8376623376623377\n"
            ]
          }
        }
      ],
      "execution_count": null
    },
    {
      "cell_type": "code",
      "source": [
        "rf = RandomForestClassifier(labelCol=\"label\", featuresCol=\"features\", seed=42)\n",
        "evaluator = MulticlassClassificationEvaluator()  \n",
        "\n",
        "# Pipeline to search the most optimal parameters for the random tree\n",
        "\n",
        "pipeline = Pipeline(stages=[rf])\n",
        "paramGrid = (ParamGridBuilder().addGrid(rf.numTrees, [100, 200]).addGrid(rf.maxDepth, [0, 3]).build())\n",
        "\n",
        "crossval = CrossValidator(\n",
        "    estimator=pipeline,\n",
        "    estimatorParamMaps=paramGrid,\n",
        "    evaluator=evaluator,\n",
        "    numFolds=10)\n",
        "\n",
        "# Train the model with 32 features\n",
        "\n",
        "model = crossval.fit(train_df_merged)"
      ],
      "metadata": {
        "application/vnd.databricks.v1+cell": {
          "title": "Complete model with 32 features - Cross Validation",
          "showTitle": true,
          "inputWidgets": {},
          "nuid": "69149488-5007-4b3b-984a-bf12ce1bc408"
        },
        "id": "pkGh5xbiYpsy"
      },
      "outputs": [],
      "execution_count": null
    },
    {
      "cell_type": "code",
      "source": [
        "in_cols = [\"age\", \"Medu\", \"Fedu\", \"traveltime\", \"studytime\", \"failures\", \"famrel\",\"freetime\", \"goout\", \"Dalc\", \"Walc\", \"health\", \"absences\", \"school_Idx\", \"sex_Idx\", \"address_Idx\", \"famsize_Idx\", \"Pstatus_Idx\", \"Mjob_Idx\", \"Fjob_Idx\", \"reason_Idx\", \"guardian_Idx\", \"schoolsup_Idx\", \"famsup_Idx\", \"paid_Idx\", \"activities_Idx\", \"nursery_Idx\", \"higher_Idx\", \"internet_Idx\", \"romantic_Idx\", \"Grade1_Idx\", \"Grade2_Idx\"]\n",
        "\n",
        "assembler = VectorAssembler(inputCols=in_cols, outputCol=\"features\")\n",
        "full_prediction_test_df = assembler.transform(test_df)\n",
        "full_prediction_test_df = full_prediction_test_df.withColumnRenamed(\"Grade3_Idx\", \"label\")\n",
        "full_prediction_test_df = full_prediction_test_df.select(\"features\", \"label\")"
      ],
      "metadata": {
        "application/vnd.databricks.v1+cell": {
          "title": "",
          "showTitle": false,
          "inputWidgets": {},
          "nuid": "36b2b6bb-cc3b-48e0-bd2b-ba2a7307b6cb"
        },
        "id": "LClHWZWNYpsz"
      },
      "outputs": [],
      "execution_count": null
    },
    {
      "cell_type": "code",
      "source": [
        "predictions = model.transform(full_prediction_test_df)\n",
        "\n",
        "evaluator = MulticlassClassificationEvaluator().setLabelCol(\"label\").setPredictionCol(\"prediction\").setMetricName(\"accuracy\")\n",
        "\n",
        "accuracy = evaluator.evaluate(predictions)\n",
        "\n",
        "# This is the accuracy of the 32 feature model over the test set\n",
        "\n",
        "print(accuracy)"
      ],
      "metadata": {
        "application/vnd.databricks.v1+cell": {
          "title": "Test the Model with 32 features over the Test Set",
          "showTitle": true,
          "inputWidgets": {},
          "nuid": "7b99b834-0a87-4563-93b3-f544f5d4e372"
        },
        "id": "TQW90osHYps0",
        "outputId": "aa8fe371-414b-4f14-d790-c4de780bc98e"
      },
      "outputs": [
        {
          "output_type": "display_data",
          "metadata": {
            "application/vnd.databricks.v1+output": {
              "datasetInfos": [],
              "data": "0.7402597402597403\n",
              "removedWidgets": [],
              "addedWidgets": {},
              "metadata": {},
              "type": "ansi",
              "arguments": {}
            }
          },
          "data": {
            "text/plain": [
              "0.7402597402597403\n"
            ]
          }
        }
      ],
      "execution_count": null
    },
    {
      "cell_type": "code",
      "source": [
        "train_df_PCA = train_df.withColumnRenamed(\"Grade3_Idx\", \"label\")\n",
        "test_df_PCA = test_df.withColumnRenamed(\"Grade3_Idx\", \"label\")\n",
        "assembler_PCA = VectorAssembler( inputCols=train_df_PCA.columns[:-1], outputCol=\"features\")\n",
        "\n",
        "pca = PCA(k=6, inputCol=\"features\", outputCol=\"pcaFeature\")\n",
        "\n",
        "model_PCA_RF = RandomForestClassifier(labelCol=\"label\", featuresCol=\"pcaFeature\", seed=42, numTrees = 300, maxDepth= 4)\n",
        "pipeline_PCA_LR = Pipeline (stages=[assembler_PCA,pca, model_PCA_RF])\n",
        "model_PCA_RF = pipeline_PCA_LR.fit(train_df_PCA)\n",
        "predictions_PCA_RF = model_PCA_RF.transform(test_df_PCA)\n",
        "evaluator_PCA_RF = MulticlassClassificationEvaluator().setLabelCol(\"label\").setPredictionCol(\"prediction\").setMetricName(\"accuracy\")\n",
        "accuracy_PCA_RF = evaluator_PCA_RF.evaluate(predictions_PCA_RF)\n",
        "print(accuracy_PCA_RF)\n",
        "\n",
        "# Not optimal approach (low accuracy compared to previous models)"
      ],
      "metadata": {
        "application/vnd.databricks.v1+cell": {
          "title": "PCA Analysis (not optimal approach)",
          "showTitle": true,
          "inputWidgets": {},
          "nuid": "b2eb71f1-edab-43a9-96ff-e5586185d62a"
        },
        "id": "93PWtkESYps0",
        "outputId": "176f941f-49d4-491e-98aa-cac981bef5bc"
      },
      "outputs": [
        {
          "output_type": "display_data",
          "metadata": {
            "application/vnd.databricks.v1+output": {
              "datasetInfos": [],
              "data": "0.6038961038961039\n",
              "removedWidgets": [],
              "addedWidgets": {},
              "metadata": {},
              "type": "ansi",
              "arguments": {}
            }
          },
          "data": {
            "text/plain": [
              "0.6038961038961039\n"
            ]
          }
        }
      ],
      "execution_count": null
    },
    {
      "cell_type": "code",
      "source": [
        "# Why is the accuracy so low? Let's see the variance explained by each component of the pca\n",
        "\n",
        "assembler_variance = VectorAssembler(inputCols=train_df_PCA.columns, outputCol=\"features\")\n",
        "train_df_PCA_variance = assembler_variance.transform(train_df_PCA)\n",
        "model_variance = pca.fit(train_df_PCA_variance)\n",
        "dense_vector = model_variance.explainedVariance"
      ],
      "metadata": {
        "application/vnd.databricks.v1+cell": {
          "title": "",
          "showTitle": false,
          "inputWidgets": {},
          "nuid": "9b8993af-176e-4a3a-87b0-5d8909e1b39f"
        },
        "id": "FEqnPyh5Yps1"
      },
      "outputs": [],
      "execution_count": null
    },
    {
      "cell_type": "code",
      "source": [
        "import matplotlib.pyplot as plt\n",
        "\n",
        "xaxis = [\"PCA1\", \"PCA2\", \"PCA3\", \"PCA4\", \"PCA5\", \"PCA6\" ]\n",
        "plt.bar(xaxis, dense_vector)\n",
        "\n",
        "# Only the first component achieves to get a high variance (the rest components are really low)\n",
        "# 64% of variance is really low to perform the prediction task correctly"
      ],
      "metadata": {
        "application/vnd.databricks.v1+cell": {
          "title": "",
          "showTitle": false,
          "inputWidgets": {},
          "nuid": "4b0fed78-8915-4024-a15c-2a91ad120756"
        },
        "id": "-Zcp7wQoYps1",
        "outputId": "ff3f9374-27ad-418b-9d66-286f997d0370"
      },
      "outputs": [
        {
          "output_type": "display_data",
          "metadata": {
            "application/vnd.databricks.v1+output": {
              "datasetInfos": [],
              "data": "Out[18]: <BarContainer object of 6 artists>",
              "removedWidgets": [],
              "addedWidgets": {},
              "metadata": {},
              "type": "ansi",
              "arguments": {}
            }
          },
          "data": {
            "text/plain": [
              "Out[18]: <BarContainer object of 6 artists>"
            ]
          }
        },
        {
          "output_type": "display_data",
          "metadata": {
            "application/vnd.databricks.v1+output": {
              "datasetInfos": [],
              "data": "data:image/png;base64,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\n",
              "removedWidgets": [],
              "addedWidgets": {},
              "metadata": {},
              "type": "image",
              "arguments": {}
            }
          },
          "data": {
            "image/png": "[encoded data removed]"
          }
        }
      ],
      "execution_count": null
    }
  ],
  "metadata": {
    "application/vnd.databricks.v1+notebook": {
      "notebookName": "FINAL PROJECT - LM10",
      "dashboards": [],
      "notebookMetadata": {
        "pythonIndentUnit": 4
      },
      "language": "python",
      "widgets": {},
      "notebookOrigID": 2437028529168176
    },
    "colab": {
      "provenance": []
    },
    "language_info": {
      "name": "python"
    },
    "kernelspec": {
      "name": "python3",
      "display_name": "Python 3"
    },
    "gpuClass": "standard"
  },
  "nbformat": 4,
  "nbformat_minor": 0
}